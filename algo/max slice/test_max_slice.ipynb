{
 "cells": [
  {
   "cell_type": "code",
   "execution_count": 7,
   "id": "53f53325-0898-4f9a-97f8-090ec81c51f4",
   "metadata": {},
   "outputs": [
    {
     "name": "stdout",
     "output_type": "stream",
     "text": [
      "val max_slice : int array -> int = <fun>\n"
     ]
    }
   ],
   "source": [
    "#use \"max slice.ml\""
   ]
  },
  {
   "cell_type": "code",
   "execution_count": 8,
   "id": "075f66a4-b324-43da-a341-b3dc828f9c3c",
   "metadata": {},
   "outputs": [
    {
     "data": {
      "text/plain": [
       "val t : int array = [|1; 6; -5; 2; 3; -7|]\n"
      ]
     },
     "execution_count": 8,
     "metadata": {},
     "output_type": "execute_result"
    }
   ],
   "source": [
    "let t = [|1;6;-5;2;3;-7|]"
   ]
  },
  {
   "cell_type": "code",
   "execution_count": 9,
   "id": "5730e9d4-a64e-49c9-9486-d259616f9e36",
   "metadata": {},
   "outputs": [
    {
     "data": {
      "text/plain": [
       "- : int = 7\n"
      ]
     },
     "execution_count": 9,
     "metadata": {},
     "output_type": "execute_result"
    }
   ],
   "source": [
    "max_slice t"
   ]
  }
 ],
 "metadata": {
  "kernelspec": {
   "display_name": "OCaml default",
   "language": "OCaml",
   "name": "ocaml-jupyter"
  },
  "language_info": {
   "codemirror_mode": "text/x-ocaml",
   "file_extension": ".ml",
   "mimetype": "text/x-ocaml",
   "name": "OCaml",
   "nbconverter_exporter": null,
   "pygments_lexer": "OCaml",
   "version": "4.08.1"
  }
 },
 "nbformat": 4,
 "nbformat_minor": 5
}
