{
 "cells": [
  {
   "cell_type": "code",
   "execution_count": 1,
   "id": "28a5e1ca-c3af-4823-999d-30325ac342d6",
   "metadata": {},
   "outputs": [
    {
     "name": "stdout",
     "output_type": "stream",
     "text": [
      "val swap : 'a array -> int -> int -> unit = <fun>\n",
      "val sort_bubble : 'a array -> unit = <fun>\n",
      "val split : 'a list -> 'a list * 'a list = <fun>\n",
      "val fusion : 'a list -> 'a list -> 'a list = <fun>\n",
      "val merge_sort : 'a list -> 'a list = <fun>\n",
      "val duplicate : 'a list -> bool = <fun>\n"
     ]
    }
   ],
   "source": [
    "#use \"duplicate.ml\""
   ]
  },
  {
   "cell_type": "code",
   "execution_count": 2,
   "id": "053a2f88-ff1c-46c9-93b2-305be7be2d61",
   "metadata": {},
   "outputs": [
    {
     "data": {
      "text/plain": [
       "val l : int list = [1; 3; 6; 5; 6]\n"
      ]
     },
     "execution_count": 2,
     "metadata": {},
     "output_type": "execute_result"
    }
   ],
   "source": [
    "let l = [1;3;6;5;6]"
   ]
  },
  {
   "cell_type": "code",
   "execution_count": 3,
   "id": "63b16a61-19fc-4047-8f26-7746b69f5973",
   "metadata": {},
   "outputs": [
    {
     "data": {
      "text/plain": [
       "- : bool = true\n"
      ]
     },
     "execution_count": 3,
     "metadata": {},
     "output_type": "execute_result"
    }
   ],
   "source": [
    "duplicate l"
   ]
  }
 ],
 "metadata": {
  "kernelspec": {
   "display_name": "OCaml default",
   "language": "OCaml",
   "name": "ocaml-jupyter"
  },
  "language_info": {
   "codemirror_mode": "text/x-ocaml",
   "file_extension": ".ml",
   "mimetype": "text/x-ocaml",
   "name": "OCaml",
   "nbconverter_exporter": null,
   "pygments_lexer": "OCaml",
   "version": "4.08.1"
  }
 },
 "nbformat": 4,
 "nbformat_minor": 5
}
