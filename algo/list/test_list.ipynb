{
 "cells": [
  {
   "cell_type": "code",
   "execution_count": 1,
   "id": "f2954bee-f889-4422-b0d7-cfbd3a55f60f",
   "metadata": {},
   "outputs": [
    {
     "name": "stdout",
     "output_type": "stream",
     "text": [
      "val find : 'a -> 'a list -> bool = <fun>\n",
      "val reverse : 'a list -> 'a list = <fun>\n",
      "val increasing : 'a list -> bool = <fun>\n"
     ]
    }
   ],
   "source": [
    "#use \"list.ml\""
   ]
  },
  {
   "cell_type": "code",
   "execution_count": 2,
   "id": "21cd8b0a-2663-49c7-b2e0-64ce8aaa732a",
   "metadata": {},
   "outputs": [
    {
     "data": {
      "text/plain": [
       "val l : int list = [1; 2; 3]\n"
      ]
     },
     "execution_count": 2,
     "metadata": {},
     "output_type": "execute_result"
    }
   ],
   "source": [
    "let l = [1;2;3]"
   ]
  },
  {
   "cell_type": "code",
   "execution_count": 5,
   "id": "7218c5a5-d07a-4943-bbd2-4c427063e080",
   "metadata": {},
   "outputs": [
    {
     "data": {
      "text/plain": [
       "- : bool = true\n"
      ]
     },
     "execution_count": 5,
     "metadata": {},
     "output_type": "execute_result"
    },
    {
     "data": {
      "text/plain": [
       "- : bool = false\n"
      ]
     },
     "execution_count": 5,
     "metadata": {},
     "output_type": "execute_result"
    }
   ],
   "source": [
    "find 2 l;;\n",
    "find 5 l"
   ]
  },
  {
   "cell_type": "code",
   "execution_count": 6,
   "id": "6aaf69bc-7aa7-46c3-9660-348df48f5045",
   "metadata": {},
   "outputs": [
    {
     "data": {
      "text/plain": [
       "- : bool = true\n"
      ]
     },
     "execution_count": 6,
     "metadata": {},
     "output_type": "execute_result"
    }
   ],
   "source": [
    "increasing l"
   ]
  },
  {
   "cell_type": "code",
   "execution_count": 8,
   "id": "cdb691d6-3678-40a1-9819-f45b7602ffa2",
   "metadata": {},
   "outputs": [
    {
     "data": {
      "text/plain": [
       "- : int list = [3; 2; 1]\n"
      ]
     },
     "execution_count": 8,
     "metadata": {},
     "output_type": "execute_result"
    }
   ],
   "source": [
    "reverse l"
   ]
  }
 ],
 "metadata": {
  "kernelspec": {
   "display_name": "OCaml default",
   "language": "OCaml",
   "name": "ocaml-jupyter"
  },
  "language_info": {
   "codemirror_mode": "text/x-ocaml",
   "file_extension": ".ml",
   "mimetype": "text/x-ocaml",
   "name": "OCaml",
   "nbconverter_exporter": null,
   "pygments_lexer": "OCaml",
   "version": "4.08.1"
  }
 },
 "nbformat": 4,
 "nbformat_minor": 5
}
