{
 "cells": [
  {
   "cell_type": "code",
   "execution_count": 1,
   "id": "72b8fddb-2d09-4386-926d-b51e8137e3b0",
   "metadata": {},
   "outputs": [
    {
     "name": "stdout",
     "output_type": "stream",
     "text": [
      "val dicho : 'a array -> 'a -> bool = <fun>\n",
      "val tricho : 'a array -> 'a -> bool = <fun>\n"
     ]
    }
   ],
   "source": [
    "#use \"dichotomy.ml\""
   ]
  },
  {
   "cell_type": "code",
   "execution_count": 2,
   "id": "ff98a2f0-5ca7-467b-ac2a-91c1426d458d",
   "metadata": {},
   "outputs": [
    {
     "data": {
      "text/plain": [
       "val t : int array = [|1; 2; 4; 6; 9|]\n"
      ]
     },
     "execution_count": 2,
     "metadata": {},
     "output_type": "execute_result"
    }
   ],
   "source": [
    "let t = [|1;2;4;6;9|]"
   ]
  },
  {
   "cell_type": "code",
   "execution_count": 5,
   "id": "337efe1c-3660-4df5-9731-125874b657a3",
   "metadata": {},
   "outputs": [
    {
     "data": {
      "text/plain": [
       "- : bool = true\n"
      ]
     },
     "execution_count": 5,
     "metadata": {},
     "output_type": "execute_result"
    },
    {
     "data": {
      "text/plain": [
       "- : bool = false\n"
      ]
     },
     "execution_count": 5,
     "metadata": {},
     "output_type": "execute_result"
    }
   ],
   "source": [
    "dicho t 2;;\n",
    "dicho t 3"
   ]
  },
  {
   "cell_type": "code",
   "execution_count": 6,
   "id": "22301363-1322-4a45-875e-190d5b2ec946",
   "metadata": {},
   "outputs": [
    {
     "data": {
      "text/plain": [
       "- : bool = true\n"
      ]
     },
     "execution_count": 6,
     "metadata": {},
     "output_type": "execute_result"
    },
    {
     "data": {
      "text/plain": [
       "- : bool = false\n"
      ]
     },
     "execution_count": 6,
     "metadata": {},
     "output_type": "execute_result"
    }
   ],
   "source": [
    "tricho t 2;;\n",
    "tricho t 5"
   ]
  }
 ],
 "metadata": {
  "kernelspec": {
   "display_name": "OCaml default",
   "language": "OCaml",
   "name": "ocaml-jupyter"
  },
  "language_info": {
   "codemirror_mode": "text/x-ocaml",
   "file_extension": ".ml",
   "mimetype": "text/x-ocaml",
   "name": "OCaml",
   "nbconverter_exporter": null,
   "pygments_lexer": "OCaml",
   "version": "4.08.1"
  }
 },
 "nbformat": 4,
 "nbformat_minor": 5
}
