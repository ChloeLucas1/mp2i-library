{
 "cells": [
  {
   "cell_type": "code",
   "execution_count": 1,
   "id": "32e88e3f-647a-4dc1-afab-88ae39b7517f",
   "metadata": {},
   "outputs": [
    {
     "name": "stdout",
     "output_type": "stream",
     "text": [
      "val fast_exp : int -> int -> int = <fun>\n"
     ]
    }
   ],
   "source": [
    "#use \"fast exponentiation.ml\""
   ]
  },
  {
   "cell_type": "code",
   "execution_count": 2,
   "id": "db2ca10a-c594-4fdc-8977-7ca15b74b88b",
   "metadata": {},
   "outputs": [
    {
     "data": {
      "text/plain": [
       "- : int = 243\n"
      ]
     },
     "execution_count": 2,
     "metadata": {},
     "output_type": "execute_result"
    }
   ],
   "source": [
    "fast_exp 3 5"
   ]
  }
 ],
 "metadata": {
  "kernelspec": {
   "display_name": "OCaml default",
   "language": "OCaml",
   "name": "ocaml-jupyter"
  },
  "language_info": {
   "codemirror_mode": "text/x-ocaml",
   "file_extension": ".ml",
   "mimetype": "text/x-ocaml",
   "name": "OCaml",
   "nbconverter_exporter": null,
   "pygments_lexer": "OCaml",
   "version": "4.08.1"
  }
 },
 "nbformat": 4,
 "nbformat_minor": 5
}
