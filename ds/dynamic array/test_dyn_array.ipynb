{
 "cells": [
  {
   "cell_type": "code",
   "execution_count": 5,
   "id": "c1e7a064-73aa-4795-8b26-15d3a96b9ebe",
   "metadata": {},
   "outputs": [
    {
     "name": "stdout",
     "output_type": "stream",
     "text": [
      "type 'a array_dyn = { mutable t : 'a array; mutable n : int; }\n",
      "val copy : 'a array -> 'a array -> unit = <fun>\n",
      "val add : 'a -> 'a array_dyn -> unit = <fun>\n"
     ]
    }
   ],
   "source": [
    "#use \"dynamic_array.ml\""
   ]
  },
  {
   "cell_type": "code",
   "execution_count": 6,
   "id": "54853fe9-372d-4a4c-aafd-2a194a23f16d",
   "metadata": {},
   "outputs": [
    {
     "data": {
      "text/plain": [
       "val d : int array_dyn = {t = [|1; 2|]; n = 2}\n"
      ]
     },
     "execution_count": 6,
     "metadata": {},
     "output_type": "execute_result"
    }
   ],
   "source": [
    "let d = { t = [|1;2|]; n = 2}"
   ]
  },
  {
   "cell_type": "code",
   "execution_count": 7,
   "id": "b8c7d371-5be6-4001-95ce-e1b1874c3e3f",
   "metadata": {},
   "outputs": [
    {
     "data": {
      "text/plain": [
       "- : unit = ()\n"
      ]
     },
     "execution_count": 7,
     "metadata": {},
     "output_type": "execute_result"
    }
   ],
   "source": [
    "add 3 d"
   ]
  },
  {
   "cell_type": "code",
   "execution_count": 8,
   "id": "6f46af51-2d06-41d0-9bdf-14fc4c926888",
   "metadata": {},
   "outputs": [
    {
     "data": {
      "text/plain": [
       "- : int array_dyn = {t = [|1; 2; 3; 1|]; n = 3}\n"
      ]
     },
     "execution_count": 8,
     "metadata": {},
     "output_type": "execute_result"
    }
   ],
   "source": [
    "d"
   ]
  }
 ],
 "metadata": {
  "kernelspec": {
   "display_name": "OCaml default",
   "language": "OCaml",
   "name": "ocaml-jupyter"
  },
  "language_info": {
   "codemirror_mode": "text/x-ocaml",
   "file_extension": ".ml",
   "mimetype": "text/x-ocaml",
   "name": "OCaml",
   "nbconverter_exporter": null,
   "pygments_lexer": "OCaml",
   "version": "4.08.1"
  }
 },
 "nbformat": 4,
 "nbformat_minor": 5
}
