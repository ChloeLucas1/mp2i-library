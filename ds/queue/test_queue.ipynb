{
 "cells": [
  {
   "cell_type": "code",
   "execution_count": 2,
   "id": "891c7df1-02ac-4444-ad6b-f18e8f2c6fc3",
   "metadata": {},
   "outputs": [
    {
     "name": "stdout",
     "output_type": "stream",
     "text": [
      "type 'a queue = { l1 : 'a list; l2 : 'a list; }\n",
      "val queue_empty : 'a queue -> bool = <fun>\n",
      "val queue_add : 'a queue -> 'a -> 'a queue = <fun>\n",
      "val queue_pop : 'a queue -> 'a * 'a queue = <fun>\n"
     ]
    }
   ],
   "source": [
    "#use \"queue.ml\""
   ]
  },
  {
   "cell_type": "code",
   "execution_count": 3,
   "id": "f13f20d4-9708-44e8-88da-05bc2af253ec",
   "metadata": {},
   "outputs": [
    {
     "data": {
      "text/plain": [
       "val f : 'a queue = {l1 = []; l2 = []}\n"
      ]
     },
     "execution_count": 3,
     "metadata": {},
     "output_type": "execute_result"
    }
   ],
   "source": [
    "let f = { l1 = []; l2 = [] }"
   ]
  },
  {
   "cell_type": "code",
   "execution_count": 4,
   "id": "b9ba0759-88da-45bb-90ee-b6c06a7dd012",
   "metadata": {},
   "outputs": [
    {
     "data": {
      "text/plain": [
       "- : bool = true\n"
      ]
     },
     "execution_count": 4,
     "metadata": {},
     "output_type": "execute_result"
    }
   ],
   "source": [
    "queue_empty f"
   ]
  },
  {
   "cell_type": "code",
   "execution_count": 7,
   "id": "28a1fa3c-193c-446e-a333-b77ac2ef2256",
   "metadata": {},
   "outputs": [
    {
     "data": {
      "text/plain": [
       "val f : int queue = {l1 = [1]; l2 = []}\n"
      ]
     },
     "execution_count": 7,
     "metadata": {},
     "output_type": "execute_result"
    }
   ],
   "source": [
    "let f = queue_add f 1"
   ]
  },
  {
   "cell_type": "code",
   "execution_count": 8,
   "id": "bf5ee9dc-7e7a-4ffb-af21-da39b5659fb6",
   "metadata": {},
   "outputs": [
    {
     "data": {
      "text/plain": [
       "- : int * int queue = (1, {l1 = []; l2 = []})\n"
      ]
     },
     "execution_count": 8,
     "metadata": {},
     "output_type": "execute_result"
    }
   ],
   "source": [
    "queue_pop f"
   ]
  }
 ],
 "metadata": {
  "kernelspec": {
   "display_name": "OCaml default",
   "language": "OCaml",
   "name": "ocaml-jupyter"
  },
  "language_info": {
   "codemirror_mode": "text/x-ocaml",
   "file_extension": ".ml",
   "mimetype": "text/x-ocaml",
   "name": "OCaml",
   "nbconverter_exporter": null,
   "pygments_lexer": "OCaml",
   "version": "4.08.1"
  }
 },
 "nbformat": 4,
 "nbformat_minor": 5
}
