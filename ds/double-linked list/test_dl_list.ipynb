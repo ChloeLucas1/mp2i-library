{
 "cells": [
  {
   "cell_type": "code",
   "execution_count": 1,
   "id": "09273e78-daa4-41be-9cdc-d1c56d3cb6c8",
   "metadata": {},
   "outputs": [
    {
     "name": "stdout",
     "output_type": "stream",
     "text": [
      "type 'a dllist = {\n",
      "  elem : 'a;\n",
      "  mutable prev : 'a dllist;\n",
      "  mutable next : 'a dllist;\n",
      "}\n",
      "val create : 'a -> 'a dllist = <fun>\n",
      "val add : 'a dllist -> 'a -> unit = <fun>\n",
      "val delete : 'a dllist -> unit = <fun>\n",
      "val length : 'a dllist -> int = <fun>\n",
      "val mem : 'a dllist -> 'a -> bool = <fun>\n",
      "val fusion : 'a dllist -> 'a dllist -> unit = <fun>\n"
     ]
    }
   ],
   "source": [
    "#use \"double-linked list.ml\""
   ]
  },
  {
   "cell_type": "code",
   "execution_count": 16,
   "id": "41674d89-ab53-410d-afaf-fb6eb693b78d",
   "metadata": {},
   "outputs": [
    {
     "data": {
      "text/plain": [
       "val l : string dllist = {elem = \"blue\"; prev = <cycle>; next = <cycle>}\n"
      ]
     },
     "execution_count": 16,
     "metadata": {},
     "output_type": "execute_result"
    }
   ],
   "source": [
    "let l = create \"blue\""
   ]
  },
  {
   "cell_type": "code",
   "execution_count": 17,
   "id": "7c50fb51-ef32-40d9-b7ee-9f458d94c728",
   "metadata": {},
   "outputs": [
    {
     "data": {
      "text/plain": [
       "- : unit = ()\n"
      ]
     },
     "execution_count": 17,
     "metadata": {},
     "output_type": "execute_result"
    },
    {
     "data": {
      "text/plain": [
       "- : string dllist =\n",
       "{elem = \"blue\"; prev = {elem = \"yellow\"; prev = <cycle>; next = <cycle>};\n",
       " next = {elem = \"yellow\"; prev = <cycle>; next = <cycle>}}\n"
      ]
     },
     "execution_count": 17,
     "metadata": {},
     "output_type": "execute_result"
    }
   ],
   "source": [
    "add l \"yellow\";;\n",
    "l"
   ]
  },
  {
   "cell_type": "code",
   "execution_count": 18,
   "id": "e49552eb-e2a8-4e47-b013-70264104669b",
   "metadata": {},
   "outputs": [
    {
     "data": {
      "text/plain": [
       "- : int = 2\n"
      ]
     },
     "execution_count": 18,
     "metadata": {},
     "output_type": "execute_result"
    }
   ],
   "source": [
    "length l"
   ]
  },
  {
   "cell_type": "code",
   "execution_count": 19,
   "id": "fb48e0a1-34f7-4bdf-a778-237acd7161df",
   "metadata": {},
   "outputs": [
    {
     "data": {
      "text/plain": [
       "- : bool = true\n"
      ]
     },
     "execution_count": 19,
     "metadata": {},
     "output_type": "execute_result"
    },
    {
     "data": {
      "text/plain": [
       "- : bool = false\n"
      ]
     },
     "execution_count": 19,
     "metadata": {},
     "output_type": "execute_result"
    }
   ],
   "source": [
    "mem l \"blue\";;\n",
    "mem l \"brown\""
   ]
  },
  {
   "cell_type": "code",
   "execution_count": 20,
   "id": "973bdbd2-62cd-4c1c-a3e0-a59a96c90f71",
   "metadata": {},
   "outputs": [
    {
     "data": {
      "text/plain": [
       "val l2 : string dllist = {elem = \"brown\"; prev = <cycle>; next = <cycle>}\n"
      ]
     },
     "execution_count": 20,
     "metadata": {},
     "output_type": "execute_result"
    },
    {
     "data": {
      "text/plain": [
       "- : unit = ()\n"
      ]
     },
     "execution_count": 20,
     "metadata": {},
     "output_type": "execute_result"
    },
    {
     "data": {
      "text/plain": [
       "- : string dllist =\n",
       "{elem = \"brown\"; prev = {elem = \"green\"; prev = <cycle>; next = <cycle>};\n",
       " next = {elem = \"green\"; prev = <cycle>; next = <cycle>}}\n"
      ]
     },
     "execution_count": 20,
     "metadata": {},
     "output_type": "execute_result"
    }
   ],
   "source": [
    "let l2 = create \"brown\";;\n",
    "add l2 \"green\";;\n",
    "l2"
   ]
  },
  {
   "cell_type": "code",
   "execution_count": 21,
   "id": "e464b3f2-1e69-4ebf-b9ba-4f5a11f13c29",
   "metadata": {},
   "outputs": [
    {
     "data": {
      "text/plain": [
       "- : unit = ()\n"
      ]
     },
     "execution_count": 21,
     "metadata": {},
     "output_type": "execute_result"
    }
   ],
   "source": [
    "fusion l l2"
   ]
  },
  {
   "cell_type": "code",
   "execution_count": 22,
   "id": "07b03c73-7a99-42ed-ac2e-02f978de871f",
   "metadata": {},
   "outputs": [
    {
     "data": {
      "text/plain": [
       "- : string dllist =\n",
       "{elem = \"blue\";\n",
       " prev =\n",
       "  {elem = \"yellow\";\n",
       "   prev =\n",
       "    {elem = \"brown\"; prev = {elem = \"green\"; prev = <cycle>; next = <cycle>};\n",
       "     next = <cycle>};\n",
       "   next = <cycle>};\n",
       " next =\n",
       "  {elem = \"green\"; prev = <cycle>;\n",
       "   next =\n",
       "    {elem = \"brown\"; prev = <cycle>;\n",
       "     next = {elem = \"yellow\"; prev = <cycle>; next = <cycle>}}}}\n"
      ]
     },
     "execution_count": 22,
     "metadata": {},
     "output_type": "execute_result"
    }
   ],
   "source": [
    "l"
   ]
  },
  {
   "cell_type": "code",
   "execution_count": 23,
   "id": "074728bb-3d08-4189-8c90-5a07ad6351df",
   "metadata": {},
   "outputs": [
    {
     "data": {
      "text/plain": [
       "- : unit = ()\n"
      ]
     },
     "execution_count": 23,
     "metadata": {},
     "output_type": "execute_result"
    },
    {
     "data": {
      "text/plain": [
       "- : string dllist =\n",
       "{elem = \"blue\";\n",
       " prev =\n",
       "  {elem = \"yellow\"; prev = {elem = \"brown\"; prev = <cycle>; next = <cycle>};\n",
       "   next = <cycle>};\n",
       " next =\n",
       "  {elem = \"brown\"; prev = <cycle>;\n",
       "   next = {elem = \"yellow\"; prev = <cycle>; next = <cycle>}}}\n"
      ]
     },
     "execution_count": 23,
     "metadata": {},
     "output_type": "execute_result"
    }
   ],
   "source": [
    "delete l.next;;\n",
    "l"
   ]
  }
 ],
 "metadata": {
  "kernelspec": {
   "display_name": "OCaml default",
   "language": "OCaml",
   "name": "ocaml-jupyter"
  },
  "language_info": {
   "codemirror_mode": "text/x-ocaml",
   "file_extension": ".ml",
   "mimetype": "text/x-ocaml",
   "name": "OCaml",
   "nbconverter_exporter": null,
   "pygments_lexer": "OCaml",
   "version": "4.08.1"
  }
 },
 "nbformat": 4,
 "nbformat_minor": 5
}
