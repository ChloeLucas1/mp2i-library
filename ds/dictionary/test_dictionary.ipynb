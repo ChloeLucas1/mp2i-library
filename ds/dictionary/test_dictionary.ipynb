{
 "cells": [
  {
   "cell_type": "code",
   "execution_count": 1,
   "id": "a0006ff6-f544-4990-b973-bd1945919159",
   "metadata": {},
   "outputs": [
    {
     "name": "stdout",
     "output_type": "stream",
     "text": [
      "type ('a, 'b) dictionary = {\n",
      "  hash : 'a -> int;\n",
      "  datas : ('a * 'b) list array;\n",
      "  width : int;\n",
      "}\n",
      "val create : ('a -> int) -> int -> ('a, 'b) dictionary = <fun>\n",
      "val search : ('a, 'b) dictionary -> 'a -> bool = <fun>\n",
      "val element : ('a, 'b) dictionary -> 'a -> 'a * 'b = <fun>\n",
      "val add : ('a, 'b) dictionary -> 'a -> 'b -> unit = <fun>\n",
      "val delete : ('a, 'b) dictionary -> 'a -> unit = <fun>\n"
     ]
    }
   ],
   "source": [
    "#use \"dictionary.ml\""
   ]
  },
  {
   "cell_type": "code",
   "execution_count": 2,
   "id": "c9ad585f-bf7e-4e08-89c7-910bde6d6264",
   "metadata": {},
   "outputs": [
    {
     "data": {
      "text/plain": [
       "val d : (int, '_weak1) dictionary =\n",
       "  {hash = <fun>; datas = [|[]; []; []; []; []; []; []; []; []; []|];\n",
       "   width = 10}\n"
      ]
     },
     "execution_count": 2,
     "metadata": {},
     "output_type": "execute_result"
    }
   ],
   "source": [
    "let d = create (fun x -> x mod 10) 10"
   ]
  },
  {
   "cell_type": "code",
   "execution_count": 5,
   "id": "270b3728-4024-4902-a687-1960e379faa7",
   "metadata": {},
   "outputs": [
    {
     "data": {
      "text/plain": [
       "- : unit = ()\n"
      ]
     },
     "execution_count": 5,
     "metadata": {},
     "output_type": "execute_result"
    },
    {
     "data": {
      "text/plain": [
       "- : unit = ()\n"
      ]
     },
     "execution_count": 5,
     "metadata": {},
     "output_type": "execute_result"
    },
    {
     "data": {
      "text/plain": [
       "- : unit = ()\n"
      ]
     },
     "execution_count": 5,
     "metadata": {},
     "output_type": "execute_result"
    },
    {
     "data": {
      "text/plain": [
       "- : (int, string) dictionary =\n",
       "{hash = <fun>;\n",
       " datas =\n",
       "  [|[]; []; [(32, \"brown\"); (52, \"blue\")]; []; []; []; [(36, \"yellow\")]; \n",
       "    []; []; []|];\n",
       " width = 10}\n"
      ]
     },
     "execution_count": 5,
     "metadata": {},
     "output_type": "execute_result"
    }
   ],
   "source": [
    "add d 52 \"blue\";;\n",
    "add d 36 \"yellow\";;\n",
    "add d 32 \"brown\";;\n",
    "d"
   ]
  },
  {
   "cell_type": "code",
   "execution_count": 6,
   "id": "0cdc0e7b-7a3e-4512-8743-bcf6840ba213",
   "metadata": {},
   "outputs": [
    {
     "data": {
      "text/plain": [
       "- : bool = true\n"
      ]
     },
     "execution_count": 6,
     "metadata": {},
     "output_type": "execute_result"
    },
    {
     "data": {
      "text/plain": [
       "- : bool = false\n"
      ]
     },
     "execution_count": 6,
     "metadata": {},
     "output_type": "execute_result"
    }
   ],
   "source": [
    "search d 52;;\n",
    "search d 47"
   ]
  },
  {
   "cell_type": "code",
   "execution_count": 7,
   "id": "c4ab5972-c83f-425d-b66b-6da8088c463a",
   "metadata": {},
   "outputs": [
    {
     "data": {
      "text/plain": [
       "- : int * string = (52, \"blue\")\n"
      ]
     },
     "execution_count": 7,
     "metadata": {},
     "output_type": "execute_result"
    }
   ],
   "source": [
    "element d 52"
   ]
  },
  {
   "cell_type": "code",
   "execution_count": 8,
   "id": "553ca423-f0d5-4148-9306-d9a3544f2320",
   "metadata": {},
   "outputs": [
    {
     "data": {
      "text/plain": [
       "- : unit = ()\n"
      ]
     },
     "execution_count": 8,
     "metadata": {},
     "output_type": "execute_result"
    },
    {
     "data": {
      "text/plain": [
       "- : (int, string) dictionary =\n",
       "{hash = <fun>;\n",
       " datas =\n",
       "  [|[]; []; [(32, \"brown\")]; []; []; []; [(36, \"yellow\")]; []; []; []|];\n",
       " width = 10}\n"
      ]
     },
     "execution_count": 8,
     "metadata": {},
     "output_type": "execute_result"
    }
   ],
   "source": [
    "delete d 52;;\n",
    "d"
   ]
  }
 ],
 "metadata": {
  "kernelspec": {
   "display_name": "OCaml default",
   "language": "OCaml",
   "name": "ocaml-jupyter"
  },
  "language_info": {
   "codemirror_mode": "text/x-ocaml",
   "file_extension": ".ml",
   "mimetype": "text/x-ocaml",
   "name": "OCaml",
   "nbconverter_exporter": null,
   "pygments_lexer": "OCaml",
   "version": "4.08.1"
  }
 },
 "nbformat": 4,
 "nbformat_minor": 5
}
